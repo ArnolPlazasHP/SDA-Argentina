{
 "cells": [
  {
   "cell_type": "code",
   "execution_count": 1,
   "metadata": {},
   "outputs": [],
   "source": [
    "import pandas as pd\n",
    "from functools import reduce"
   ]
  },
  {
   "cell_type": "code",
   "execution_count": 6,
   "metadata": {},
   "outputs": [
    {
     "data": {
      "text/html": [
       "<div>\n",
       "<style scoped>\n",
       "    .dataframe tbody tr th:only-of-type {\n",
       "        vertical-align: middle;\n",
       "    }\n",
       "\n",
       "    .dataframe tbody tr th {\n",
       "        vertical-align: top;\n",
       "    }\n",
       "\n",
       "    .dataframe thead th {\n",
       "        text-align: right;\n",
       "    }\n",
       "</style>\n",
       "<table border=\"1\" class=\"dataframe\">\n",
       "  <thead>\n",
       "    <tr style=\"text-align: right;\">\n",
       "      <th></th>\n",
       "      <th>Delivery</th>\n",
       "      <th>Material</th>\n",
       "      <th>QTY</th>\n",
       "      <th>Invoice_Number</th>\n",
       "      <th>HTS_GTS</th>\n",
       "      <th>HTS_WWClass</th>\n",
       "      <th>SDA</th>\n",
       "      <th>Mode</th>\n",
       "      <th>PL</th>\n",
       "      <th>BU</th>\n",
       "    </tr>\n",
       "  </thead>\n",
       "  <tbody>\n",
       "    <tr>\n",
       "      <th>0</th>\n",
       "      <td>8023484935</td>\n",
       "      <td>593W0EC#AC8</td>\n",
       "      <td>1</td>\n",
       "      <td>-</td>\n",
       "      <td>-</td>\n",
       "      <td>84713012190L</td>\n",
       "      <td>Missing Invoice on GTS Report</td>\n",
       "      <td>Ocean</td>\n",
       "      <td>AN</td>\n",
       "      <td>Computing</td>\n",
       "    </tr>\n",
       "    <tr>\n",
       "      <th>1</th>\n",
       "      <td>8023188064</td>\n",
       "      <td>UD4W3AAE</td>\n",
       "      <td>1</td>\n",
       "      <td>-</td>\n",
       "      <td>-</td>\n",
       "      <td>SERVICEONLY</td>\n",
       "      <td>Missing Invoice on GTS Report</td>\n",
       "      <td>Ocean</td>\n",
       "      <td>M2</td>\n",
       "      <td>Computing</td>\n",
       "    </tr>\n",
       "    <tr>\n",
       "      <th>2</th>\n",
       "      <td>8022148818</td>\n",
       "      <td>507Q3EP#AC8</td>\n",
       "      <td>1</td>\n",
       "      <td>9323751142</td>\n",
       "      <td>84713019900D</td>\n",
       "      <td>84713012991G</td>\n",
       "      <td>HTS-GTS &lt;&gt; HTS-WWClass</td>\n",
       "      <td>Air</td>\n",
       "      <td>IK</td>\n",
       "      <td>Computing</td>\n",
       "    </tr>\n",
       "  </tbody>\n",
       "</table>\n",
       "</div>"
      ],
      "text/plain": [
       "     Delivery     Material QTY Invoice_Number       HTS_GTS   HTS_WWClass  \\\n",
       "0  8023484935  593W0EC#AC8   1              -             -  84713012190L   \n",
       "1  8023188064     UD4W3AAE   1              -             -   SERVICEONLY   \n",
       "2  8022148818  507Q3EP#AC8   1     9323751142  84713019900D  84713012991G   \n",
       "\n",
       "                             SDA   Mode  PL         BU  \n",
       "0  Missing Invoice on GTS Report  Ocean  AN  Computing  \n",
       "1  Missing Invoice on GTS Report  Ocean  M2  Computing  \n",
       "2         HTS-GTS <> HTS-WWClass    Air  IK  Computing  "
      ]
     },
     "execution_count": 6,
     "metadata": {},
     "output_type": "execute_result"
    }
   ],
   "source": [
    "df_sda = pd.read_excel('./db/Sdas_HTS_AR.xlsx')\n",
    "df_sda = df_sda.convert_dtypes()\n",
    "df_sda.dropna(how='all', inplace=True)\n",
    "df_sda = df_sda.astype('string')\n",
    "df_sda.fillna('-', inplace=True)\n",
    "df_sda = df_sda.loc[:, ['Delivery', 'Material', 'QTY', 'Invoice_Number', 'HTS_GTS', 'HTS_WWClass', 'SDA', 'Mode', 'PL', 'BU']]\n",
    "df_sda"
   ]
  },
  {
   "cell_type": "code",
   "execution_count": 5,
   "metadata": {},
   "outputs": [
    {
     "data": {
      "text/html": [
       "<div>\n",
       "<style scoped>\n",
       "    .dataframe tbody tr th:only-of-type {\n",
       "        vertical-align: middle;\n",
       "    }\n",
       "\n",
       "    .dataframe tbody tr th {\n",
       "        vertical-align: top;\n",
       "    }\n",
       "\n",
       "    .dataframe thead th {\n",
       "        text-align: right;\n",
       "    }\n",
       "</style>\n",
       "<table border=\"1\" class=\"dataframe\">\n",
       "  <thead>\n",
       "    <tr style=\"text-align: right;\">\n",
       "      <th></th>\n",
       "      <th>SDA</th>\n",
       "      <th>Mode</th>\n",
       "      <th>BU</th>\n",
       "      <th>Delivery</th>\n",
       "    </tr>\n",
       "  </thead>\n",
       "  <tbody>\n",
       "    <tr>\n",
       "      <th>0</th>\n",
       "      <td>HTS-GTS &lt;&gt; HTS-WWClass</td>\n",
       "      <td>Air</td>\n",
       "      <td>Computing</td>\n",
       "      <td>1</td>\n",
       "    </tr>\n",
       "    <tr>\n",
       "      <th>1</th>\n",
       "      <td>Missing Invoice on GTS Report</td>\n",
       "      <td>-</td>\n",
       "      <td>Computing</td>\n",
       "      <td>2</td>\n",
       "    </tr>\n",
       "  </tbody>\n",
       "</table>\n",
       "</div>"
      ],
      "text/plain": [
       "                             SDA Mode         BU  Delivery\n",
       "0         HTS-GTS <> HTS-WWClass  Air  Computing         1\n",
       "1  Missing Invoice on GTS Report    -  Computing         2"
      ]
     },
     "execution_count": 5,
     "metadata": {},
     "output_type": "execute_result"
    }
   ],
   "source": [
    "\n",
    "df_group_sda = df_sda.groupby(['SDA', 'Mode', 'BU'])['Delivery'].count().reset_index()\n",
    "df_group_sda"
   ]
  },
  {
   "cell_type": "code",
   "execution_count": 4,
   "metadata": {},
   "outputs": [
    {
     "data": {
      "text/html": [
       "<div>\n",
       "<style scoped>\n",
       "    .dataframe tbody tr th:only-of-type {\n",
       "        vertical-align: middle;\n",
       "    }\n",
       "\n",
       "    .dataframe tbody tr th {\n",
       "        vertical-align: top;\n",
       "    }\n",
       "\n",
       "    .dataframe thead th {\n",
       "        text-align: right;\n",
       "    }\n",
       "</style>\n",
       "<table border=\"1\" class=\"dataframe\">\n",
       "  <thead>\n",
       "    <tr style=\"text-align: right;\">\n",
       "      <th></th>\n",
       "      <th>SDA</th>\n",
       "      <th>Delay reason</th>\n",
       "      <th>Delay Sub-reason</th>\n",
       "    </tr>\n",
       "  </thead>\n",
       "  <tbody>\n",
       "    <tr>\n",
       "      <th>0</th>\n",
       "      <td>HTS-GTS &lt;&gt; HTS-WWClass</td>\n",
       "      <td>Classification Disputes</td>\n",
       "      <td>Disputed by Service Provider</td>\n",
       "    </tr>\n",
       "    <tr>\n",
       "      <th>1</th>\n",
       "      <td>Missing Invoice on GTS Report</td>\n",
       "      <td>Invoice Missing</td>\n",
       "      <td>GTS web portal</td>\n",
       "    </tr>\n",
       "    <tr>\n",
       "      <th>2</th>\n",
       "      <td>Blank HTS on GTS  Report</td>\n",
       "      <td>Classification Missing</td>\n",
       "      <td>Missing on Invoice</td>\n",
       "    </tr>\n",
       "    <tr>\n",
       "      <th>3</th>\n",
       "      <td>Missing HTS on GTS  Report</td>\n",
       "      <td>Classification Missing</td>\n",
       "      <td>Missing on Invoice</td>\n",
       "    </tr>\n",
       "  </tbody>\n",
       "</table>\n",
       "</div>"
      ],
      "text/plain": [
       "                             SDA             Delay reason  \\\n",
       "0         HTS-GTS <> HTS-WWClass  Classification Disputes   \n",
       "1  Missing Invoice on GTS Report          Invoice Missing   \n",
       "2       Blank HTS on GTS  Report   Classification Missing   \n",
       "3     Missing HTS on GTS  Report   Classification Missing   \n",
       "\n",
       "               Delay Sub-reason  \n",
       "0  Disputed by Service Provider  \n",
       "1                GTS web portal  \n",
       "2            Missing on Invoice  \n",
       "3            Missing on Invoice  "
      ]
     },
     "execution_count": 4,
     "metadata": {},
     "output_type": "execute_result"
    }
   ],
   "source": [
    "df_delay_reason = pd.read_excel('./db/Delay_reasons.xlsx')\n",
    "df_delay_reason.head()"
   ]
  },
  {
   "cell_type": "code",
   "execution_count": 5,
   "metadata": {},
   "outputs": [
    {
     "data": {
      "text/plain": [
       "[nan,\n",
       " 'Missing Invoice on GTS Report-Computing',\n",
       " 'HTS-GTS <> HTS-WWClassAirComputing']"
      ]
     },
     "execution_count": 5,
     "metadata": {},
     "output_type": "execute_result"
    }
   ],
   "source": [
    "df_sda = df_sda.merge(df_delay_reason, on='SDA', how='inner')\n",
    "df_sda['key'] = df_sda['SDA'] + df_sda['Mode'] + df_sda['BU']\n",
    "list_sda = list(df_sda['key'].unique())\n",
    "list_sda"
   ]
  },
  {
   "cell_type": "code",
   "execution_count": 6,
   "metadata": {},
   "outputs": [
    {
     "name": "stdout",
     "output_type": "stream",
     "text": [
      "[{'Delivery': [], 'QTY': [], 'HTS_GTS': [], 'HTS_WWClass': [], 'SDA': [], 'Mode': [], 'BU': [], 'Delay reason': [], 'Delay Sub-reason': []}, {'Delivery': [8023188064], 'QTY': [1], 'HTS_GTS': [nan], 'HTS_WWClass': ['SERVICEONLY'], 'SDA': ['Missing Invoice on GTS Report'], 'Mode': ['-'], 'BU': ['Computing'], 'Delay reason': ['Invoice Missing'], 'Delay Sub-reason': ['GTS web portal']}, {'Delivery': [8022148818], 'QTY': [1], 'HTS_GTS': ['84713019900D'], 'HTS_WWClass': ['84713012991G'], 'SDA': ['HTS-GTS <> HTS-WWClass'], 'Mode': ['Air'], 'BU': ['Computing'], 'Delay reason': ['Classification Disputes'], 'Delay Sub-reason': ['Disputed by Service Provider']}]\n",
      "----------------------------------------------------------------------------------------------------\n",
      "[{'Invoice_Number': nan, 'Material': [], 'QTY': [], 'PL': []}, {'Invoice_Number': 9323751142.0, 'Material': ['507Q3EP#AC8'], 'QTY': [1], 'PL': ['IK']}]\n"
     ]
    }
   ],
   "source": [
    "dict_sda = {}\n",
    "invoices = []\n",
    "list_request_sda = []\n",
    "for k in list_sda:\n",
    "    df_sda_filter = df_sda[df_sda['key'] == k]\n",
    "    dict_sda['Delivery']  = list(df_sda_filter['Delivery'])\n",
    "    #dict_sda['Material'] = list(df_sda_filter['Material'])\n",
    "    dict_sda['QTY'] = list(df_sda_filter['QTY'])\n",
    "    #dict_sda['Invoice_Number'] = list(df_sda_filter['Invoice_Number'])\n",
    "    for i in list(df_sda_filter['Invoice_Number'].unique()):\n",
    "        invoice = {}\n",
    "        invoice['Invoice_Number'] = i\n",
    "        df_sda_filter_invoice = df_sda_filter[df_sda_filter['Invoice_Number'] == i]\n",
    "        invoice['Material'] = list(df_sda_filter_invoice['Material'])\n",
    "        invoice['QTY'] = list(df_sda_filter_invoice['QTY'])\n",
    "        invoice['PL'] = list(df_sda_filter_invoice['PL'])\n",
    "        invoices.append(invoice)\n",
    "    dict_sda['HTS_GTS'] = list(df_sda_filter['HTS_GTS'])\n",
    "    dict_sda['HTS_WWClass'] = list(df_sda_filter['HTS_WWClass'])\n",
    "    dict_sda['SDA'] = list(df_sda_filter['SDA'].drop_duplicates())\n",
    "    dict_sda['Mode'] = list(df_sda_filter['Mode'].drop_duplicates())\n",
    "    #dict_sda['PL'] = list(df_sda_filter['PL'])\n",
    "    dict_sda['BU'] = list(df_sda_filter['BU'].drop_duplicates())\n",
    "    dict_sda['Delay reason'] = list(df_sda_filter['Delay reason'].drop_duplicates())\n",
    "    dict_sda['Delay Sub-reason'] = list(df_sda_filter['Delay Sub-reason'].drop_duplicates())\n",
    "    list_request_sda.append(dict_sda.copy())\n",
    "    \n",
    "print(list_request_sda)\n",
    "print('-' * 100)\n",
    "print(invoices)\n"
   ]
  },
  {
   "cell_type": "code",
   "execution_count": 24,
   "metadata": {},
   "outputs": [
    {
     "data": {
      "text/plain": [
       "[24, 72]"
      ]
     },
     "execution_count": 24,
     "metadata": {},
     "output_type": "execute_result"
    }
   ],
   "source": [
    "list_request_sda[0]['QTY']"
   ]
  },
  {
   "cell_type": "code",
   "execution_count": 27,
   "metadata": {},
   "outputs": [
    {
     "name": "stdout",
     "output_type": "stream",
     "text": [
      "0\n",
      "1\n",
      "2\n"
     ]
    }
   ],
   "source": [
    "for k in range(0, len(list_request_sda)):\n",
    "    print(k)"
   ]
  },
  {
   "cell_type": "code",
   "execution_count": 31,
   "metadata": {},
   "outputs": [
    {
     "name": "stdout",
     "output_type": "stream",
     "text": [
      "Printing Ocean 96 [8020981243, 8021074551]\n",
      "Computing Ocean 810 [8021075477]\n",
      "Computing Air 1 [8022148818]\n"
     ]
    }
   ],
   "source": [
    "\n",
    "for k in range(0, len(list_request_sda)):\n",
    "    qty = reduce(lambda a, b: a + b, list_request_sda[k]['QTY'])\n",
    "    print(list_request_sda[k]['BU'][0], list_request_sda[k]['Mode'][0], qty, list_request_sda[k]['Delivery'])"
   ]
  },
  {
   "cell_type": "code",
   "execution_count": 33,
   "metadata": {},
   "outputs": [
    {
     "name": "stdout",
     "output_type": "stream",
     "text": [
      "HTS_GTS \t HTS_WWClass \t SDA \n",
      "\n",
      "1 \t < \t 12 \n",
      "\n",
      "HTS_GTS \t HTS_WWClass \t SDA \n",
      "\n",
      "2 \t x \t 22 \n",
      "\n",
      "HTS_GTS \t HTS_WWClass \t SDA \n",
      "\n",
      "4 \t 43 \t 42 \n",
      "\n",
      "HTS_GTS \t HTS_WWClass \t SDA \n",
      "\n",
      "3 \t hola \t chao \n",
      "\n"
     ]
    }
   ],
   "source": [
    "l1 = [1, 2, 4, '3']\n",
    "l2 = ['<', 'x', 43, 'hola']\n",
    "l3 = [12, 22, 42, 'chao']\n",
    "\n",
    "print('HTS_GTS', '\\t', 'HTS_WWClass', '\\t', 'SDA', '\\n')\n",
    "for i, j, k in zip(l1, l2, l3):\n",
    "    print(i, '\\t', j, '\\t', k, '\\n')"
   ]
  }
 ],
 "metadata": {
  "kernelspec": {
   "display_name": "Python 3.9.0 64-bit",
   "language": "python",
   "name": "python3"
  },
  "language_info": {
   "codemirror_mode": {
    "name": "ipython",
    "version": 3
   },
   "file_extension": ".py",
   "mimetype": "text/x-python",
   "name": "python",
   "nbconvert_exporter": "python",
   "pygments_lexer": "ipython3",
   "version": "3.9.0"
  },
  "orig_nbformat": 4,
  "vscode": {
   "interpreter": {
    "hash": "5394d26d6d0a8897cef2323983e3ef6c25d948cc4d6a5cabd2d1aa9bb64d53dc"
   }
  }
 },
 "nbformat": 4,
 "nbformat_minor": 2
}
